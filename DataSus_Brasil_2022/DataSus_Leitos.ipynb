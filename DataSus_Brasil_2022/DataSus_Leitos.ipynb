{
  "nbformat": 4,
  "nbformat_minor": 0,
  "metadata": {
    "colab": {
      "provenance": [],
      "toc_visible": true,
      "include_colab_link": true
    },
    "kernelspec": {
      "name": "python3",
      "display_name": "Python 3"
    },
    "language_info": {
      "name": "python"
    },
    "gpuClass": "standard"
  },
  "cells": [
    {
      "cell_type": "markdown",
      "metadata": {
        "id": "view-in-github",
        "colab_type": "text"
      },
      "source": [
        "<a href=\"https://colab.research.google.com/github/Gus-1003/Geoestatistica_Estudos_Dados/blob/main/DataSus_Brasil_2022/DataSus_Leitos.ipynb\" target=\"_parent\"><img src=\"https://colab.research.google.com/assets/colab-badge.svg\" alt=\"Open In Colab\"/></a>"
      ]
    },
    {
      "cell_type": "markdown",
      "source": [
        "# Contexto da Pesquisa:\n",
        "\n",
        "## Registro de Ocupação Hospitalar COVID-19:\n",
        "O Ministério da Saúde, por meio da Secretaria de Atenção Especializada em Saúde (SAES), implementou, devido à pandemia, o registro das internações por meio do Sistema ESUS Notifica-Módulo Internações SUS.\n",
        "\n",
        "Esta página tem como finalidade disponibilizar o banco de dados da ocupação dos leitos, a partir da incorporação do sistema e-SUS Notifica- Módulo internações SUS, em vigor a partir de abril de 2020.\n",
        "\n",
        "## Informações disponibilizadas:\n",
        "O módulo Internações foi desenvolvido para registro da ocupação de leitos clínicos e de Unidade de Terapia Intensiva (UTI) SUS destinados para atendimento aos pacientes com casos suspeitos ou confirmados da COVID-19 (ocupação SRAG / COVID-19)\n",
        "\n",
        "Alguns estados apresentam sistemas próprios de registro de ocupação e para esses foi disponibilizado uma API que transfere os dados dos estados para o sistema ESUS NOTIFICA- Módulo Internações SUS.\n",
        "\n",
        "Devido ao grande número de registros pelos estabelecimentos de internações COVID-19, alguns estados já possuem mais de um milhão de registros, o que impossibilita estes dados de serem abertos no Excel, somente existe a disponibilização CSV.\n",
        "\n",
        "A partir do ano de 2022 foi acrescentado novos campos utilizados para descrever a ocupação dos leitos. Registros com ano anterior a 2022 não contém esses campos preenchidos.\n",
        "\n",
        "## Link da fonte: \n",
        "https://opendatasus.saude.gov.br/dataset/registro-de-ocupacao-hospitalar-covid-19"
      ],
      "metadata": {
        "id": "n4jMzVnPxcqN"
      }
    },
    {
      "cell_type": "markdown",
      "source": [
        "# Lista de Requisitos para o Projeto:\n",
        "\n",
        "## Parte 1:  Amostragem\n",
        "\n",
        "1. Escreva um algoritmo que realize:\n",
        "\n",
        "    a- Leitura de arquivo (CSV): (✔️)\n",
        "\n",
        "    b- Estatísticas descritivas:\n",
        "        describe (✔️)\n",
        "        box-plot (✔️)\n",
        "        correlacao de Pearson ou mapa de calor. (✔️)\n",
        "\n",
        "2. Faca a interpretação, pelo menos duas dessas variáveis.\n",
        "3. Calcular tamanho de amostra com margem de erro 5%\n",
        "4. Criar metodologias para seleção de amostras:\n",
        "\n",
        "    a- aleatoria simples\n",
        "\n",
        "    b- estratificada\n",
        "\n",
        "    c- conglomerados\n",
        "\n",
        "    d- sistematicas\n",
        "\n",
        "5.   Criar algoritmo para fazer essa selecao dessa amostra\n",
        "\n",
        "\n",
        "## Parte 2: Tópicos Analise de Componentes Principais (PCA) e  Analise Fatorial (FA).\n",
        "\n",
        "1. Explanação da técnica de analise\n",
        "\n",
        "    a- Quem fez?\n",
        "\n",
        "    b- Qual o propósito geral?\n",
        "\n",
        "    c- Quais sao as principais etapas?\n",
        "\n",
        "2. Construa em seu algoritmo as seguintes técnicas:  \n",
        "    a- Analise de Componentes Principais (PCA)\n",
        "\n",
        "    b- Analise Fatorial (FA).\n",
        "\n",
        "3. Interprete os resultados"
      ],
      "metadata": {
        "id": "YYcyQj4PWi3S"
      }
    },
    {
      "cell_type": "markdown",
      "source": [
        "# Importando Ferramentas:"
      ],
      "metadata": {
        "id": "TjvdiIPNumbf"
      }
    },
    {
      "cell_type": "code",
      "execution_count": 1,
      "metadata": {
        "id": "C26GYdt3DiAF"
      },
      "outputs": [],
      "source": [
        "import pandas as pd\n",
        "\n",
        "import numpy as np\n",
        "\n",
        "import matplotlib.pyplot as plt\n",
        "import plotly.express as px\n",
        "\n",
        "import seaborn as sns"
      ]
    },
    {
      "cell_type": "code",
      "source": [
        "from google.colab import drive\n",
        "drive.mount('/content/drive/')\n",
        "%cd /content/drive/MyDrive/"
      ],
      "metadata": {
        "id": "4L6s4ep_Ea0L",
        "colab": {
          "base_uri": "https://localhost:8080/"
        },
        "outputId": "1e74e63c-f151-457c-e2fd-43be32198ace"
      },
      "execution_count": 2,
      "outputs": [
        {
          "output_type": "stream",
          "name": "stdout",
          "text": [
            "Drive already mounted at /content/drive/; to attempt to forcibly remount, call drive.mount(\"/content/drive/\", force_remount=True).\n",
            "/content/drive/MyDrive\n"
          ]
        }
      ]
    },
    {
      "cell_type": "markdown",
      "source": [
        "# Análise Descrivitiva dos Dados"
      ],
      "metadata": {
        "id": "msf7hE1yuVZP"
      }
    },
    {
      "cell_type": "markdown",
      "source": [
        "## Leitura do Arquivo:"
      ],
      "metadata": {
        "id": "CoV2qSpjc6aF"
      }
    },
    {
      "cell_type": "code",
      "source": [
        "dados = pd.read_csv('/content/drive/MyDrive/Colab Notebooks/Analises DataSus/esus-vepi.LeitoOcupacao_2022.csv', quotechar='\"')"
      ],
      "metadata": {
        "id": "2bDoyLMWEdND"
      },
      "execution_count": 3,
      "outputs": []
    },
    {
      "cell_type": "markdown",
      "source": [
        "## Visualização Superficial do Dataset:"
      ],
      "metadata": {
        "id": "Pk-qt-B0dPZl"
      }
    },
    {
      "cell_type": "code",
      "source": [
        "dados.head()"
      ],
      "metadata": {
        "colab": {
          "base_uri": "https://localhost:8080/",
          "height": 421
        },
        "id": "ALdRmrwbVr9l",
        "outputId": "9cfa1b9c-4fe0-4b47-8676-f1734d2c84d9"
      },
      "execution_count": 4,
      "outputs": [
        {
          "output_type": "execute_result",
          "data": {
            "text/plain": [
              "   Unnamed: 0         _id           dataNotificacao     cnes  \\\n",
              "0      641508  PBGTlqtFBP  2022-01-17T03:00:00.000Z  2379341   \n",
              "1     1275198  ipPHkH1yIB  2022-01-05T03:00:00.000Z  2594366   \n",
              "2     1290474  oDyVTndNXc  2022-01-01T03:00:50.682Z  2747871   \n",
              "3     1290489  cTrwNtInVV  2022-01-01T03:00:08.570Z  2082497   \n",
              "4     1290490  CPkiO32WyI  2022-01-01T03:00:14.691Z  2092980   \n",
              "\n",
              "   ocupacaoSuspeitoCli  ocupacaoSuspeitoUti  ocupacaoConfirmadoCli  \\\n",
              "0                 13.0                  8.0                    0.0   \n",
              "1                  NaN                  NaN                    NaN   \n",
              "2                  NaN                  NaN                    NaN   \n",
              "3                  NaN                  NaN                    NaN   \n",
              "4                  NaN                  NaN                    NaN   \n",
              "\n",
              "   ocupacaoConfirmadoUti  ocupacaoCovidUti  ocupacaoCovidCli  ...  \\\n",
              "0                    0.0               0.0               1.0  ...   \n",
              "1                    NaN               0.0               0.0  ...   \n",
              "2                    NaN               1.0               9.0  ...   \n",
              "3                    NaN               0.0               1.0  ...   \n",
              "4                    NaN               0.0               0.0  ...   \n",
              "\n",
              "        origem        _p_usuario  estadoNotificacao  municipioNotificacao  \\\n",
              "0  parse-cloud  _User$m6WdvZgbBS     Santa Catarina                 Mafra   \n",
              "1  parse-cloud  _User$C2nTBR5lmy             Paraná              Umuarama   \n",
              "2  parse-cloud  _User$APEoiAf61c          São Paulo              Ilhabela   \n",
              "3  parse-cloud  _User$q0FgtTNz2d          São Paulo  Bernardino de Campos   \n",
              "4  parse-cloud  _User$u4yOaQOJlf          São Paulo                Bastos   \n",
              "\n",
              "           estado             municipio excluido validado  \\\n",
              "0  Santa Catarina                 Mafra    False    False   \n",
              "1          Paraná              Umuarama    False    False   \n",
              "2       São Paulo              Ilhabela    False    False   \n",
              "3       São Paulo  Bernardino de Campos    False    False   \n",
              "4       São Paulo                Bastos    False    False   \n",
              "\n",
              "                _created_at               _updated_at  \n",
              "0  2021-02-15T11:08:07.797Z  2022-01-17T21:56:42.351Z  \n",
              "1  2021-12-08T10:42:04.123Z  2022-01-05T14:17:35.799Z  \n",
              "2  2022-01-01T03:34:58.234Z  2022-01-01T03:34:58.234Z  \n",
              "3  2022-01-01T04:50:29.194Z  2022-01-01T04:50:29.194Z  \n",
              "4  2022-01-01T05:01:31.468Z  2022-01-01T05:01:31.468Z  \n",
              "\n",
              "[5 rows x 26 columns]"
            ],
            "text/html": [
              "\n",
              "  <div id=\"df-8b392de7-2e2a-4bf6-843b-350e5eea6fae\">\n",
              "    <div class=\"colab-df-container\">\n",
              "      <div>\n",
              "<style scoped>\n",
              "    .dataframe tbody tr th:only-of-type {\n",
              "        vertical-align: middle;\n",
              "    }\n",
              "\n",
              "    .dataframe tbody tr th {\n",
              "        vertical-align: top;\n",
              "    }\n",
              "\n",
              "    .dataframe thead th {\n",
              "        text-align: right;\n",
              "    }\n",
              "</style>\n",
              "<table border=\"1\" class=\"dataframe\">\n",
              "  <thead>\n",
              "    <tr style=\"text-align: right;\">\n",
              "      <th></th>\n",
              "      <th>Unnamed: 0</th>\n",
              "      <th>_id</th>\n",
              "      <th>dataNotificacao</th>\n",
              "      <th>cnes</th>\n",
              "      <th>ocupacaoSuspeitoCli</th>\n",
              "      <th>ocupacaoSuspeitoUti</th>\n",
              "      <th>ocupacaoConfirmadoCli</th>\n",
              "      <th>ocupacaoConfirmadoUti</th>\n",
              "      <th>ocupacaoCovidUti</th>\n",
              "      <th>ocupacaoCovidCli</th>\n",
              "      <th>...</th>\n",
              "      <th>origem</th>\n",
              "      <th>_p_usuario</th>\n",
              "      <th>estadoNotificacao</th>\n",
              "      <th>municipioNotificacao</th>\n",
              "      <th>estado</th>\n",
              "      <th>municipio</th>\n",
              "      <th>excluido</th>\n",
              "      <th>validado</th>\n",
              "      <th>_created_at</th>\n",
              "      <th>_updated_at</th>\n",
              "    </tr>\n",
              "  </thead>\n",
              "  <tbody>\n",
              "    <tr>\n",
              "      <th>0</th>\n",
              "      <td>641508</td>\n",
              "      <td>PBGTlqtFBP</td>\n",
              "      <td>2022-01-17T03:00:00.000Z</td>\n",
              "      <td>2379341</td>\n",
              "      <td>13.0</td>\n",
              "      <td>8.0</td>\n",
              "      <td>0.0</td>\n",
              "      <td>0.0</td>\n",
              "      <td>0.0</td>\n",
              "      <td>1.0</td>\n",
              "      <td>...</td>\n",
              "      <td>parse-cloud</td>\n",
              "      <td>_User$m6WdvZgbBS</td>\n",
              "      <td>Santa Catarina</td>\n",
              "      <td>Mafra</td>\n",
              "      <td>Santa Catarina</td>\n",
              "      <td>Mafra</td>\n",
              "      <td>False</td>\n",
              "      <td>False</td>\n",
              "      <td>2021-02-15T11:08:07.797Z</td>\n",
              "      <td>2022-01-17T21:56:42.351Z</td>\n",
              "    </tr>\n",
              "    <tr>\n",
              "      <th>1</th>\n",
              "      <td>1275198</td>\n",
              "      <td>ipPHkH1yIB</td>\n",
              "      <td>2022-01-05T03:00:00.000Z</td>\n",
              "      <td>2594366</td>\n",
              "      <td>NaN</td>\n",
              "      <td>NaN</td>\n",
              "      <td>NaN</td>\n",
              "      <td>NaN</td>\n",
              "      <td>0.0</td>\n",
              "      <td>0.0</td>\n",
              "      <td>...</td>\n",
              "      <td>parse-cloud</td>\n",
              "      <td>_User$C2nTBR5lmy</td>\n",
              "      <td>Paraná</td>\n",
              "      <td>Umuarama</td>\n",
              "      <td>Paraná</td>\n",
              "      <td>Umuarama</td>\n",
              "      <td>False</td>\n",
              "      <td>False</td>\n",
              "      <td>2021-12-08T10:42:04.123Z</td>\n",
              "      <td>2022-01-05T14:17:35.799Z</td>\n",
              "    </tr>\n",
              "    <tr>\n",
              "      <th>2</th>\n",
              "      <td>1290474</td>\n",
              "      <td>oDyVTndNXc</td>\n",
              "      <td>2022-01-01T03:00:50.682Z</td>\n",
              "      <td>2747871</td>\n",
              "      <td>NaN</td>\n",
              "      <td>NaN</td>\n",
              "      <td>NaN</td>\n",
              "      <td>NaN</td>\n",
              "      <td>1.0</td>\n",
              "      <td>9.0</td>\n",
              "      <td>...</td>\n",
              "      <td>parse-cloud</td>\n",
              "      <td>_User$APEoiAf61c</td>\n",
              "      <td>São Paulo</td>\n",
              "      <td>Ilhabela</td>\n",
              "      <td>São Paulo</td>\n",
              "      <td>Ilhabela</td>\n",
              "      <td>False</td>\n",
              "      <td>False</td>\n",
              "      <td>2022-01-01T03:34:58.234Z</td>\n",
              "      <td>2022-01-01T03:34:58.234Z</td>\n",
              "    </tr>\n",
              "    <tr>\n",
              "      <th>3</th>\n",
              "      <td>1290489</td>\n",
              "      <td>cTrwNtInVV</td>\n",
              "      <td>2022-01-01T03:00:08.570Z</td>\n",
              "      <td>2082497</td>\n",
              "      <td>NaN</td>\n",
              "      <td>NaN</td>\n",
              "      <td>NaN</td>\n",
              "      <td>NaN</td>\n",
              "      <td>0.0</td>\n",
              "      <td>1.0</td>\n",
              "      <td>...</td>\n",
              "      <td>parse-cloud</td>\n",
              "      <td>_User$q0FgtTNz2d</td>\n",
              "      <td>São Paulo</td>\n",
              "      <td>Bernardino de Campos</td>\n",
              "      <td>São Paulo</td>\n",
              "      <td>Bernardino de Campos</td>\n",
              "      <td>False</td>\n",
              "      <td>False</td>\n",
              "      <td>2022-01-01T04:50:29.194Z</td>\n",
              "      <td>2022-01-01T04:50:29.194Z</td>\n",
              "    </tr>\n",
              "    <tr>\n",
              "      <th>4</th>\n",
              "      <td>1290490</td>\n",
              "      <td>CPkiO32WyI</td>\n",
              "      <td>2022-01-01T03:00:14.691Z</td>\n",
              "      <td>2092980</td>\n",
              "      <td>NaN</td>\n",
              "      <td>NaN</td>\n",
              "      <td>NaN</td>\n",
              "      <td>NaN</td>\n",
              "      <td>0.0</td>\n",
              "      <td>0.0</td>\n",
              "      <td>...</td>\n",
              "      <td>parse-cloud</td>\n",
              "      <td>_User$u4yOaQOJlf</td>\n",
              "      <td>São Paulo</td>\n",
              "      <td>Bastos</td>\n",
              "      <td>São Paulo</td>\n",
              "      <td>Bastos</td>\n",
              "      <td>False</td>\n",
              "      <td>False</td>\n",
              "      <td>2022-01-01T05:01:31.468Z</td>\n",
              "      <td>2022-01-01T05:01:31.468Z</td>\n",
              "    </tr>\n",
              "  </tbody>\n",
              "</table>\n",
              "<p>5 rows × 26 columns</p>\n",
              "</div>\n",
              "      <button class=\"colab-df-convert\" onclick=\"convertToInteractive('df-8b392de7-2e2a-4bf6-843b-350e5eea6fae')\"\n",
              "              title=\"Convert this dataframe to an interactive table.\"\n",
              "              style=\"display:none;\">\n",
              "        \n",
              "  <svg xmlns=\"http://www.w3.org/2000/svg\" height=\"24px\"viewBox=\"0 0 24 24\"\n",
              "       width=\"24px\">\n",
              "    <path d=\"M0 0h24v24H0V0z\" fill=\"none\"/>\n",
              "    <path d=\"M18.56 5.44l.94 2.06.94-2.06 2.06-.94-2.06-.94-.94-2.06-.94 2.06-2.06.94zm-11 1L8.5 8.5l.94-2.06 2.06-.94-2.06-.94L8.5 2.5l-.94 2.06-2.06.94zm10 10l.94 2.06.94-2.06 2.06-.94-2.06-.94-.94-2.06-.94 2.06-2.06.94z\"/><path d=\"M17.41 7.96l-1.37-1.37c-.4-.4-.92-.59-1.43-.59-.52 0-1.04.2-1.43.59L10.3 9.45l-7.72 7.72c-.78.78-.78 2.05 0 2.83L4 21.41c.39.39.9.59 1.41.59.51 0 1.02-.2 1.41-.59l7.78-7.78 2.81-2.81c.8-.78.8-2.07 0-2.86zM5.41 20L4 18.59l7.72-7.72 1.47 1.35L5.41 20z\"/>\n",
              "  </svg>\n",
              "      </button>\n",
              "      \n",
              "  <style>\n",
              "    .colab-df-container {\n",
              "      display:flex;\n",
              "      flex-wrap:wrap;\n",
              "      gap: 12px;\n",
              "    }\n",
              "\n",
              "    .colab-df-convert {\n",
              "      background-color: #E8F0FE;\n",
              "      border: none;\n",
              "      border-radius: 50%;\n",
              "      cursor: pointer;\n",
              "      display: none;\n",
              "      fill: #1967D2;\n",
              "      height: 32px;\n",
              "      padding: 0 0 0 0;\n",
              "      width: 32px;\n",
              "    }\n",
              "\n",
              "    .colab-df-convert:hover {\n",
              "      background-color: #E2EBFA;\n",
              "      box-shadow: 0px 1px 2px rgba(60, 64, 67, 0.3), 0px 1px 3px 1px rgba(60, 64, 67, 0.15);\n",
              "      fill: #174EA6;\n",
              "    }\n",
              "\n",
              "    [theme=dark] .colab-df-convert {\n",
              "      background-color: #3B4455;\n",
              "      fill: #D2E3FC;\n",
              "    }\n",
              "\n",
              "    [theme=dark] .colab-df-convert:hover {\n",
              "      background-color: #434B5C;\n",
              "      box-shadow: 0px 1px 3px 1px rgba(0, 0, 0, 0.15);\n",
              "      filter: drop-shadow(0px 1px 2px rgba(0, 0, 0, 0.3));\n",
              "      fill: #FFFFFF;\n",
              "    }\n",
              "  </style>\n",
              "\n",
              "      <script>\n",
              "        const buttonEl =\n",
              "          document.querySelector('#df-8b392de7-2e2a-4bf6-843b-350e5eea6fae button.colab-df-convert');\n",
              "        buttonEl.style.display =\n",
              "          google.colab.kernel.accessAllowed ? 'block' : 'none';\n",
              "\n",
              "        async function convertToInteractive(key) {\n",
              "          const element = document.querySelector('#df-8b392de7-2e2a-4bf6-843b-350e5eea6fae');\n",
              "          const dataTable =\n",
              "            await google.colab.kernel.invokeFunction('convertToInteractive',\n",
              "                                                     [key], {});\n",
              "          if (!dataTable) return;\n",
              "\n",
              "          const docLinkHtml = 'Like what you see? Visit the ' +\n",
              "            '<a target=\"_blank\" href=https://colab.research.google.com/notebooks/data_table.ipynb>data table notebook</a>'\n",
              "            + ' to learn more about interactive tables.';\n",
              "          element.innerHTML = '';\n",
              "          dataTable['output_type'] = 'display_data';\n",
              "          await google.colab.output.renderOutput(dataTable, element);\n",
              "          const docLink = document.createElement('div');\n",
              "          docLink.innerHTML = docLinkHtml;\n",
              "          element.appendChild(docLink);\n",
              "        }\n",
              "      </script>\n",
              "    </div>\n",
              "  </div>\n",
              "  "
            ]
          },
          "metadata": {},
          "execution_count": 4
        }
      ]
    },
    {
      "cell_type": "code",
      "source": [
        "dados.shape"
      ],
      "metadata": {
        "id": "z2ofF07JFlFt",
        "colab": {
          "base_uri": "https://localhost:8080/"
        },
        "outputId": "657b2e57-6f23-4c4d-cdb3-a4154b024c03"
      },
      "execution_count": 5,
      "outputs": [
        {
          "output_type": "execute_result",
          "data": {
            "text/plain": [
              "(243445, 26)"
            ]
          },
          "metadata": {},
          "execution_count": 5
        }
      ]
    },
    {
      "cell_type": "markdown",
      "source": [
        "## Medidas Descritivas:"
      ],
      "metadata": {
        "id": "2hcq4t33dBdA"
      }
    },
    {
      "cell_type": "code",
      "source": [
        "dados.info()"
      ],
      "metadata": {
        "id": "f-1Cve-SFFaT",
        "colab": {
          "base_uri": "https://localhost:8080/"
        },
        "outputId": "a7edae9c-0933-4578-def6-7ffa25c46fc3"
      },
      "execution_count": 6,
      "outputs": [
        {
          "output_type": "stream",
          "name": "stdout",
          "text": [
            "<class 'pandas.core.frame.DataFrame'>\n",
            "RangeIndex: 243445 entries, 0 to 243444\n",
            "Data columns (total 26 columns):\n",
            " #   Column                 Non-Null Count   Dtype  \n",
            "---  ------                 --------------   -----  \n",
            " 0   Unnamed: 0             243445 non-null  int64  \n",
            " 1   _id                    243445 non-null  object \n",
            " 2   dataNotificacao        243445 non-null  object \n",
            " 3   cnes                   243445 non-null  object \n",
            " 4   ocupacaoSuspeitoCli    1 non-null       float64\n",
            " 5   ocupacaoSuspeitoUti    1 non-null       float64\n",
            " 6   ocupacaoConfirmadoCli  1 non-null       float64\n",
            " 7   ocupacaoConfirmadoUti  1 non-null       float64\n",
            " 8   ocupacaoCovidUti       243445 non-null  float64\n",
            " 9   ocupacaoCovidCli       243445 non-null  float64\n",
            " 10  ocupacaoHospitalarUti  243445 non-null  float64\n",
            " 11  ocupacaoHospitalarCli  243445 non-null  float64\n",
            " 12  saidaSuspeitaObitos    243445 non-null  float64\n",
            " 13  saidaSuspeitaAltas     243445 non-null  float64\n",
            " 14  saidaConfirmadaObitos  243445 non-null  float64\n",
            " 15  saidaConfirmadaAltas   243445 non-null  float64\n",
            " 16  origem                 243445 non-null  object \n",
            " 17  _p_usuario             243445 non-null  object \n",
            " 18  estadoNotificacao      243445 non-null  object \n",
            " 19  municipioNotificacao   243445 non-null  object \n",
            " 20  estado                 243445 non-null  object \n",
            " 21  municipio              243445 non-null  object \n",
            " 22  excluido               243445 non-null  bool   \n",
            " 23  validado               243445 non-null  bool   \n",
            " 24  _created_at            243445 non-null  object \n",
            " 25  _updated_at            243445 non-null  object \n",
            "dtypes: bool(2), float64(12), int64(1), object(11)\n",
            "memory usage: 45.0+ MB\n"
          ]
        }
      ]
    },
    {
      "cell_type": "code",
      "source": [
        "dados.isna().sum()"
      ],
      "metadata": {
        "id": "cU5ST1f7GElM",
        "colab": {
          "base_uri": "https://localhost:8080/"
        },
        "outputId": "b80aca42-8b6f-4d6e-9ad8-61d36b42eaf0"
      },
      "execution_count": 7,
      "outputs": [
        {
          "output_type": "execute_result",
          "data": {
            "text/plain": [
              "Unnamed: 0                    0\n",
              "_id                           0\n",
              "dataNotificacao               0\n",
              "cnes                          0\n",
              "ocupacaoSuspeitoCli      243444\n",
              "ocupacaoSuspeitoUti      243444\n",
              "ocupacaoConfirmadoCli    243444\n",
              "ocupacaoConfirmadoUti    243444\n",
              "ocupacaoCovidUti              0\n",
              "ocupacaoCovidCli              0\n",
              "ocupacaoHospitalarUti         0\n",
              "ocupacaoHospitalarCli         0\n",
              "saidaSuspeitaObitos           0\n",
              "saidaSuspeitaAltas            0\n",
              "saidaConfirmadaObitos         0\n",
              "saidaConfirmadaAltas          0\n",
              "origem                        0\n",
              "_p_usuario                    0\n",
              "estadoNotificacao             0\n",
              "municipioNotificacao          0\n",
              "estado                        0\n",
              "municipio                     0\n",
              "excluido                      0\n",
              "validado                      0\n",
              "_created_at                   0\n",
              "_updated_at                   0\n",
              "dtype: int64"
            ]
          },
          "metadata": {},
          "execution_count": 7
        }
      ]
    },
    {
      "cell_type": "code",
      "source": [
        "dados.describe()"
      ],
      "metadata": {
        "id": "b7n3TrKoFJCj",
        "colab": {
          "base_uri": "https://localhost:8080/",
          "height": 365
        },
        "outputId": "b1d036a7-8449-4c71-f4f3-811728482a7e"
      },
      "execution_count": 8,
      "outputs": [
        {
          "output_type": "execute_result",
          "data": {
            "text/plain": [
              "         Unnamed: 0  ocupacaoSuspeitoCli  ocupacaoSuspeitoUti  \\\n",
              "count  2.434450e+05                  1.0                  1.0   \n",
              "mean   1.420358e+06                 13.0                  8.0   \n",
              "std    7.193734e+04                  NaN                  NaN   \n",
              "min    6.415080e+05                 13.0                  8.0   \n",
              "25%    1.360232e+06                 13.0                  8.0   \n",
              "50%    1.421419e+06                 13.0                  8.0   \n",
              "75%    1.482411e+06                 13.0                  8.0   \n",
              "max    1.543300e+06                 13.0                  8.0   \n",
              "\n",
              "       ocupacaoConfirmadoCli  ocupacaoConfirmadoUti  ocupacaoCovidUti  \\\n",
              "count                    1.0                    1.0     243445.000000   \n",
              "mean                     0.0                    0.0          2.214574   \n",
              "std                      NaN                    NaN          7.323370   \n",
              "min                      0.0                    0.0         -7.000000   \n",
              "25%                      0.0                    0.0          0.000000   \n",
              "50%                      0.0                    0.0          0.000000   \n",
              "75%                      0.0                    0.0          1.000000   \n",
              "max                      0.0                    0.0        300.000000   \n",
              "\n",
              "       ocupacaoCovidCli  ocupacaoHospitalarUti  ocupacaoHospitalarCli  \\\n",
              "count     243445.000000          243445.000000          243445.000000   \n",
              "mean           3.241566               8.869367              36.556274   \n",
              "std           44.984199              25.870032              78.219066   \n",
              "min           -1.000000              -5.000000              -1.000000   \n",
              "25%            0.000000               0.000000               1.000000   \n",
              "50%            0.000000               0.000000              11.000000   \n",
              "75%            2.000000              10.000000              42.000000   \n",
              "max        21701.000000            8191.000000           21701.000000   \n",
              "\n",
              "       saidaSuspeitaObitos  saidaSuspeitaAltas  saidaConfirmadaObitos  \\\n",
              "count        243445.000000       243445.000000          243445.000000   \n",
              "mean              0.123794            0.548703               0.945059   \n",
              "std               2.310973            9.545234              15.417578   \n",
              "min              -5.000000           -5.000000              -1.000000   \n",
              "25%               0.000000            0.000000               0.000000   \n",
              "50%               0.000000            0.000000               0.000000   \n",
              "75%               0.000000            0.000000               0.000000   \n",
              "max             106.000000         3292.000000            3300.000000   \n",
              "\n",
              "       saidaConfirmadaAltas  \n",
              "count         243445.000000  \n",
              "mean               6.659911  \n",
              "std              157.534467  \n",
              "min               -6.000000  \n",
              "25%                0.000000  \n",
              "50%                0.000000  \n",
              "75%                0.000000  \n",
              "max             9167.000000  "
            ],
            "text/html": [
              "\n",
              "  <div id=\"df-a763e96c-e66c-479f-b2ac-bd5d0984d15d\">\n",
              "    <div class=\"colab-df-container\">\n",
              "      <div>\n",
              "<style scoped>\n",
              "    .dataframe tbody tr th:only-of-type {\n",
              "        vertical-align: middle;\n",
              "    }\n",
              "\n",
              "    .dataframe tbody tr th {\n",
              "        vertical-align: top;\n",
              "    }\n",
              "\n",
              "    .dataframe thead th {\n",
              "        text-align: right;\n",
              "    }\n",
              "</style>\n",
              "<table border=\"1\" class=\"dataframe\">\n",
              "  <thead>\n",
              "    <tr style=\"text-align: right;\">\n",
              "      <th></th>\n",
              "      <th>Unnamed: 0</th>\n",
              "      <th>ocupacaoSuspeitoCli</th>\n",
              "      <th>ocupacaoSuspeitoUti</th>\n",
              "      <th>ocupacaoConfirmadoCli</th>\n",
              "      <th>ocupacaoConfirmadoUti</th>\n",
              "      <th>ocupacaoCovidUti</th>\n",
              "      <th>ocupacaoCovidCli</th>\n",
              "      <th>ocupacaoHospitalarUti</th>\n",
              "      <th>ocupacaoHospitalarCli</th>\n",
              "      <th>saidaSuspeitaObitos</th>\n",
              "      <th>saidaSuspeitaAltas</th>\n",
              "      <th>saidaConfirmadaObitos</th>\n",
              "      <th>saidaConfirmadaAltas</th>\n",
              "    </tr>\n",
              "  </thead>\n",
              "  <tbody>\n",
              "    <tr>\n",
              "      <th>count</th>\n",
              "      <td>2.434450e+05</td>\n",
              "      <td>1.0</td>\n",
              "      <td>1.0</td>\n",
              "      <td>1.0</td>\n",
              "      <td>1.0</td>\n",
              "      <td>243445.000000</td>\n",
              "      <td>243445.000000</td>\n",
              "      <td>243445.000000</td>\n",
              "      <td>243445.000000</td>\n",
              "      <td>243445.000000</td>\n",
              "      <td>243445.000000</td>\n",
              "      <td>243445.000000</td>\n",
              "      <td>243445.000000</td>\n",
              "    </tr>\n",
              "    <tr>\n",
              "      <th>mean</th>\n",
              "      <td>1.420358e+06</td>\n",
              "      <td>13.0</td>\n",
              "      <td>8.0</td>\n",
              "      <td>0.0</td>\n",
              "      <td>0.0</td>\n",
              "      <td>2.214574</td>\n",
              "      <td>3.241566</td>\n",
              "      <td>8.869367</td>\n",
              "      <td>36.556274</td>\n",
              "      <td>0.123794</td>\n",
              "      <td>0.548703</td>\n",
              "      <td>0.945059</td>\n",
              "      <td>6.659911</td>\n",
              "    </tr>\n",
              "    <tr>\n",
              "      <th>std</th>\n",
              "      <td>7.193734e+04</td>\n",
              "      <td>NaN</td>\n",
              "      <td>NaN</td>\n",
              "      <td>NaN</td>\n",
              "      <td>NaN</td>\n",
              "      <td>7.323370</td>\n",
              "      <td>44.984199</td>\n",
              "      <td>25.870032</td>\n",
              "      <td>78.219066</td>\n",
              "      <td>2.310973</td>\n",
              "      <td>9.545234</td>\n",
              "      <td>15.417578</td>\n",
              "      <td>157.534467</td>\n",
              "    </tr>\n",
              "    <tr>\n",
              "      <th>min</th>\n",
              "      <td>6.415080e+05</td>\n",
              "      <td>13.0</td>\n",
              "      <td>8.0</td>\n",
              "      <td>0.0</td>\n",
              "      <td>0.0</td>\n",
              "      <td>-7.000000</td>\n",
              "      <td>-1.000000</td>\n",
              "      <td>-5.000000</td>\n",
              "      <td>-1.000000</td>\n",
              "      <td>-5.000000</td>\n",
              "      <td>-5.000000</td>\n",
              "      <td>-1.000000</td>\n",
              "      <td>-6.000000</td>\n",
              "    </tr>\n",
              "    <tr>\n",
              "      <th>25%</th>\n",
              "      <td>1.360232e+06</td>\n",
              "      <td>13.0</td>\n",
              "      <td>8.0</td>\n",
              "      <td>0.0</td>\n",
              "      <td>0.0</td>\n",
              "      <td>0.000000</td>\n",
              "      <td>0.000000</td>\n",
              "      <td>0.000000</td>\n",
              "      <td>1.000000</td>\n",
              "      <td>0.000000</td>\n",
              "      <td>0.000000</td>\n",
              "      <td>0.000000</td>\n",
              "      <td>0.000000</td>\n",
              "    </tr>\n",
              "    <tr>\n",
              "      <th>50%</th>\n",
              "      <td>1.421419e+06</td>\n",
              "      <td>13.0</td>\n",
              "      <td>8.0</td>\n",
              "      <td>0.0</td>\n",
              "      <td>0.0</td>\n",
              "      <td>0.000000</td>\n",
              "      <td>0.000000</td>\n",
              "      <td>0.000000</td>\n",
              "      <td>11.000000</td>\n",
              "      <td>0.000000</td>\n",
              "      <td>0.000000</td>\n",
              "      <td>0.000000</td>\n",
              "      <td>0.000000</td>\n",
              "    </tr>\n",
              "    <tr>\n",
              "      <th>75%</th>\n",
              "      <td>1.482411e+06</td>\n",
              "      <td>13.0</td>\n",
              "      <td>8.0</td>\n",
              "      <td>0.0</td>\n",
              "      <td>0.0</td>\n",
              "      <td>1.000000</td>\n",
              "      <td>2.000000</td>\n",
              "      <td>10.000000</td>\n",
              "      <td>42.000000</td>\n",
              "      <td>0.000000</td>\n",
              "      <td>0.000000</td>\n",
              "      <td>0.000000</td>\n",
              "      <td>0.000000</td>\n",
              "    </tr>\n",
              "    <tr>\n",
              "      <th>max</th>\n",
              "      <td>1.543300e+06</td>\n",
              "      <td>13.0</td>\n",
              "      <td>8.0</td>\n",
              "      <td>0.0</td>\n",
              "      <td>0.0</td>\n",
              "      <td>300.000000</td>\n",
              "      <td>21701.000000</td>\n",
              "      <td>8191.000000</td>\n",
              "      <td>21701.000000</td>\n",
              "      <td>106.000000</td>\n",
              "      <td>3292.000000</td>\n",
              "      <td>3300.000000</td>\n",
              "      <td>9167.000000</td>\n",
              "    </tr>\n",
              "  </tbody>\n",
              "</table>\n",
              "</div>\n",
              "      <button class=\"colab-df-convert\" onclick=\"convertToInteractive('df-a763e96c-e66c-479f-b2ac-bd5d0984d15d')\"\n",
              "              title=\"Convert this dataframe to an interactive table.\"\n",
              "              style=\"display:none;\">\n",
              "        \n",
              "  <svg xmlns=\"http://www.w3.org/2000/svg\" height=\"24px\"viewBox=\"0 0 24 24\"\n",
              "       width=\"24px\">\n",
              "    <path d=\"M0 0h24v24H0V0z\" fill=\"none\"/>\n",
              "    <path d=\"M18.56 5.44l.94 2.06.94-2.06 2.06-.94-2.06-.94-.94-2.06-.94 2.06-2.06.94zm-11 1L8.5 8.5l.94-2.06 2.06-.94-2.06-.94L8.5 2.5l-.94 2.06-2.06.94zm10 10l.94 2.06.94-2.06 2.06-.94-2.06-.94-.94-2.06-.94 2.06-2.06.94z\"/><path d=\"M17.41 7.96l-1.37-1.37c-.4-.4-.92-.59-1.43-.59-.52 0-1.04.2-1.43.59L10.3 9.45l-7.72 7.72c-.78.78-.78 2.05 0 2.83L4 21.41c.39.39.9.59 1.41.59.51 0 1.02-.2 1.41-.59l7.78-7.78 2.81-2.81c.8-.78.8-2.07 0-2.86zM5.41 20L4 18.59l7.72-7.72 1.47 1.35L5.41 20z\"/>\n",
              "  </svg>\n",
              "      </button>\n",
              "      \n",
              "  <style>\n",
              "    .colab-df-container {\n",
              "      display:flex;\n",
              "      flex-wrap:wrap;\n",
              "      gap: 12px;\n",
              "    }\n",
              "\n",
              "    .colab-df-convert {\n",
              "      background-color: #E8F0FE;\n",
              "      border: none;\n",
              "      border-radius: 50%;\n",
              "      cursor: pointer;\n",
              "      display: none;\n",
              "      fill: #1967D2;\n",
              "      height: 32px;\n",
              "      padding: 0 0 0 0;\n",
              "      width: 32px;\n",
              "    }\n",
              "\n",
              "    .colab-df-convert:hover {\n",
              "      background-color: #E2EBFA;\n",
              "      box-shadow: 0px 1px 2px rgba(60, 64, 67, 0.3), 0px 1px 3px 1px rgba(60, 64, 67, 0.15);\n",
              "      fill: #174EA6;\n",
              "    }\n",
              "\n",
              "    [theme=dark] .colab-df-convert {\n",
              "      background-color: #3B4455;\n",
              "      fill: #D2E3FC;\n",
              "    }\n",
              "\n",
              "    [theme=dark] .colab-df-convert:hover {\n",
              "      background-color: #434B5C;\n",
              "      box-shadow: 0px 1px 3px 1px rgba(0, 0, 0, 0.15);\n",
              "      filter: drop-shadow(0px 1px 2px rgba(0, 0, 0, 0.3));\n",
              "      fill: #FFFFFF;\n",
              "    }\n",
              "  </style>\n",
              "\n",
              "      <script>\n",
              "        const buttonEl =\n",
              "          document.querySelector('#df-a763e96c-e66c-479f-b2ac-bd5d0984d15d button.colab-df-convert');\n",
              "        buttonEl.style.display =\n",
              "          google.colab.kernel.accessAllowed ? 'block' : 'none';\n",
              "\n",
              "        async function convertToInteractive(key) {\n",
              "          const element = document.querySelector('#df-a763e96c-e66c-479f-b2ac-bd5d0984d15d');\n",
              "          const dataTable =\n",
              "            await google.colab.kernel.invokeFunction('convertToInteractive',\n",
              "                                                     [key], {});\n",
              "          if (!dataTable) return;\n",
              "\n",
              "          const docLinkHtml = 'Like what you see? Visit the ' +\n",
              "            '<a target=\"_blank\" href=https://colab.research.google.com/notebooks/data_table.ipynb>data table notebook</a>'\n",
              "            + ' to learn more about interactive tables.';\n",
              "          element.innerHTML = '';\n",
              "          dataTable['output_type'] = 'display_data';\n",
              "          await google.colab.output.renderOutput(dataTable, element);\n",
              "          const docLink = document.createElement('div');\n",
              "          docLink.innerHTML = docLinkHtml;\n",
              "          element.appendChild(docLink);\n",
              "        }\n",
              "      </script>\n",
              "    </div>\n",
              "  </div>\n",
              "  "
            ]
          },
          "metadata": {},
          "execution_count": 8
        }
      ]
    },
    {
      "cell_type": "code",
      "source": [
        "dados.describe(include='object')"
      ],
      "metadata": {
        "id": "MPY7SO-VFNgK",
        "colab": {
          "base_uri": "https://localhost:8080/",
          "height": 236
        },
        "outputId": "c3f96ad1-9ee4-439c-8ef5-2fb31d68687a"
      },
      "execution_count": 9,
      "outputs": [
        {
          "output_type": "execute_result",
          "data": {
            "text/plain": [
              "               _id           dataNotificacao     cnes       origem  \\\n",
              "count       243445                    243445   243445       243445   \n",
              "unique      243445                    117801     2019            7   \n",
              "top     PBGTlqtFBP  2022-01-14T03:00:00.000Z  2775999  parse-cloud   \n",
              "freq             1                       577      248       150636   \n",
              "\n",
              "              _p_usuario estadoNotificacao municipioNotificacao     estado  \\\n",
              "count             243445            243445               243445     243445   \n",
              "unique              1206                27                 1206         27   \n",
              "top     _User$HzwsO90KQW         São Paulo            São Paulo  São Paulo   \n",
              "freq               93596             62209                11408      62206   \n",
              "\n",
              "        municipio               _created_at               _updated_at  \n",
              "count      243445                    243445                    243445  \n",
              "unique       1206                    243310                    243316  \n",
              "top     São Paulo  2022-02-26T03:01:24.290Z  2022-02-26T03:01:24.290Z  \n",
              "freq        11408                         2                         2  "
            ],
            "text/html": [
              "\n",
              "  <div id=\"df-c055a364-4105-4907-8369-9324deee4a0a\">\n",
              "    <div class=\"colab-df-container\">\n",
              "      <div>\n",
              "<style scoped>\n",
              "    .dataframe tbody tr th:only-of-type {\n",
              "        vertical-align: middle;\n",
              "    }\n",
              "\n",
              "    .dataframe tbody tr th {\n",
              "        vertical-align: top;\n",
              "    }\n",
              "\n",
              "    .dataframe thead th {\n",
              "        text-align: right;\n",
              "    }\n",
              "</style>\n",
              "<table border=\"1\" class=\"dataframe\">\n",
              "  <thead>\n",
              "    <tr style=\"text-align: right;\">\n",
              "      <th></th>\n",
              "      <th>_id</th>\n",
              "      <th>dataNotificacao</th>\n",
              "      <th>cnes</th>\n",
              "      <th>origem</th>\n",
              "      <th>_p_usuario</th>\n",
              "      <th>estadoNotificacao</th>\n",
              "      <th>municipioNotificacao</th>\n",
              "      <th>estado</th>\n",
              "      <th>municipio</th>\n",
              "      <th>_created_at</th>\n",
              "      <th>_updated_at</th>\n",
              "    </tr>\n",
              "  </thead>\n",
              "  <tbody>\n",
              "    <tr>\n",
              "      <th>count</th>\n",
              "      <td>243445</td>\n",
              "      <td>243445</td>\n",
              "      <td>243445</td>\n",
              "      <td>243445</td>\n",
              "      <td>243445</td>\n",
              "      <td>243445</td>\n",
              "      <td>243445</td>\n",
              "      <td>243445</td>\n",
              "      <td>243445</td>\n",
              "      <td>243445</td>\n",
              "      <td>243445</td>\n",
              "    </tr>\n",
              "    <tr>\n",
              "      <th>unique</th>\n",
              "      <td>243445</td>\n",
              "      <td>117801</td>\n",
              "      <td>2019</td>\n",
              "      <td>7</td>\n",
              "      <td>1206</td>\n",
              "      <td>27</td>\n",
              "      <td>1206</td>\n",
              "      <td>27</td>\n",
              "      <td>1206</td>\n",
              "      <td>243310</td>\n",
              "      <td>243316</td>\n",
              "    </tr>\n",
              "    <tr>\n",
              "      <th>top</th>\n",
              "      <td>PBGTlqtFBP</td>\n",
              "      <td>2022-01-14T03:00:00.000Z</td>\n",
              "      <td>2775999</td>\n",
              "      <td>parse-cloud</td>\n",
              "      <td>_User$HzwsO90KQW</td>\n",
              "      <td>São Paulo</td>\n",
              "      <td>São Paulo</td>\n",
              "      <td>São Paulo</td>\n",
              "      <td>São Paulo</td>\n",
              "      <td>2022-02-26T03:01:24.290Z</td>\n",
              "      <td>2022-02-26T03:01:24.290Z</td>\n",
              "    </tr>\n",
              "    <tr>\n",
              "      <th>freq</th>\n",
              "      <td>1</td>\n",
              "      <td>577</td>\n",
              "      <td>248</td>\n",
              "      <td>150636</td>\n",
              "      <td>93596</td>\n",
              "      <td>62209</td>\n",
              "      <td>11408</td>\n",
              "      <td>62206</td>\n",
              "      <td>11408</td>\n",
              "      <td>2</td>\n",
              "      <td>2</td>\n",
              "    </tr>\n",
              "  </tbody>\n",
              "</table>\n",
              "</div>\n",
              "      <button class=\"colab-df-convert\" onclick=\"convertToInteractive('df-c055a364-4105-4907-8369-9324deee4a0a')\"\n",
              "              title=\"Convert this dataframe to an interactive table.\"\n",
              "              style=\"display:none;\">\n",
              "        \n",
              "  <svg xmlns=\"http://www.w3.org/2000/svg\" height=\"24px\"viewBox=\"0 0 24 24\"\n",
              "       width=\"24px\">\n",
              "    <path d=\"M0 0h24v24H0V0z\" fill=\"none\"/>\n",
              "    <path d=\"M18.56 5.44l.94 2.06.94-2.06 2.06-.94-2.06-.94-.94-2.06-.94 2.06-2.06.94zm-11 1L8.5 8.5l.94-2.06 2.06-.94-2.06-.94L8.5 2.5l-.94 2.06-2.06.94zm10 10l.94 2.06.94-2.06 2.06-.94-2.06-.94-.94-2.06-.94 2.06-2.06.94z\"/><path d=\"M17.41 7.96l-1.37-1.37c-.4-.4-.92-.59-1.43-.59-.52 0-1.04.2-1.43.59L10.3 9.45l-7.72 7.72c-.78.78-.78 2.05 0 2.83L4 21.41c.39.39.9.59 1.41.59.51 0 1.02-.2 1.41-.59l7.78-7.78 2.81-2.81c.8-.78.8-2.07 0-2.86zM5.41 20L4 18.59l7.72-7.72 1.47 1.35L5.41 20z\"/>\n",
              "  </svg>\n",
              "      </button>\n",
              "      \n",
              "  <style>\n",
              "    .colab-df-container {\n",
              "      display:flex;\n",
              "      flex-wrap:wrap;\n",
              "      gap: 12px;\n",
              "    }\n",
              "\n",
              "    .colab-df-convert {\n",
              "      background-color: #E8F0FE;\n",
              "      border: none;\n",
              "      border-radius: 50%;\n",
              "      cursor: pointer;\n",
              "      display: none;\n",
              "      fill: #1967D2;\n",
              "      height: 32px;\n",
              "      padding: 0 0 0 0;\n",
              "      width: 32px;\n",
              "    }\n",
              "\n",
              "    .colab-df-convert:hover {\n",
              "      background-color: #E2EBFA;\n",
              "      box-shadow: 0px 1px 2px rgba(60, 64, 67, 0.3), 0px 1px 3px 1px rgba(60, 64, 67, 0.15);\n",
              "      fill: #174EA6;\n",
              "    }\n",
              "\n",
              "    [theme=dark] .colab-df-convert {\n",
              "      background-color: #3B4455;\n",
              "      fill: #D2E3FC;\n",
              "    }\n",
              "\n",
              "    [theme=dark] .colab-df-convert:hover {\n",
              "      background-color: #434B5C;\n",
              "      box-shadow: 0px 1px 3px 1px rgba(0, 0, 0, 0.15);\n",
              "      filter: drop-shadow(0px 1px 2px rgba(0, 0, 0, 0.3));\n",
              "      fill: #FFFFFF;\n",
              "    }\n",
              "  </style>\n",
              "\n",
              "      <script>\n",
              "        const buttonEl =\n",
              "          document.querySelector('#df-c055a364-4105-4907-8369-9324deee4a0a button.colab-df-convert');\n",
              "        buttonEl.style.display =\n",
              "          google.colab.kernel.accessAllowed ? 'block' : 'none';\n",
              "\n",
              "        async function convertToInteractive(key) {\n",
              "          const element = document.querySelector('#df-c055a364-4105-4907-8369-9324deee4a0a');\n",
              "          const dataTable =\n",
              "            await google.colab.kernel.invokeFunction('convertToInteractive',\n",
              "                                                     [key], {});\n",
              "          if (!dataTable) return;\n",
              "\n",
              "          const docLinkHtml = 'Like what you see? Visit the ' +\n",
              "            '<a target=\"_blank\" href=https://colab.research.google.com/notebooks/data_table.ipynb>data table notebook</a>'\n",
              "            + ' to learn more about interactive tables.';\n",
              "          element.innerHTML = '';\n",
              "          dataTable['output_type'] = 'display_data';\n",
              "          await google.colab.output.renderOutput(dataTable, element);\n",
              "          const docLink = document.createElement('div');\n",
              "          docLink.innerHTML = docLinkHtml;\n",
              "          element.appendChild(docLink);\n",
              "        }\n",
              "      </script>\n",
              "    </div>\n",
              "  </div>\n",
              "  "
            ]
          },
          "metadata": {},
          "execution_count": 9
        }
      ]
    },
    {
      "cell_type": "markdown",
      "source": [
        "## Representação Gráfica do dados:"
      ],
      "metadata": {
        "id": "Nc_6qT9ndVUl"
      }
    },
    {
      "cell_type": "code",
      "source": [
        "numerados = dados[['ocupacaoCovidUti', 'ocupacaoCovidCli', 'ocupacaoHospitalarUti', 'ocupacaoHospitalarCli', 'saidaSuspeitaObitos', \n",
        "                          'saidaSuspeitaAltas', 'saidaConfirmadaObitos', 'saidaConfirmadaAltas']]"
      ],
      "metadata": {
        "id": "NIr_bUjTgmpT"
      },
      "execution_count": 10,
      "outputs": []
    },
    {
      "cell_type": "code",
      "source": [
        "# Creating plot\n",
        "numerados.plot.box(grid = True, figsize=(20,20))\n",
        " \n",
        "# show plot\n",
        "plt.show()"
      ],
      "metadata": {
        "colab": {
          "base_uri": "https://localhost:8080/",
          "height": 1000
        },
        "id": "R-_WVuWYjZod",
        "outputId": "74adf8d4-7a59-429e-de77-8bc26aad4552"
      },
      "execution_count": 11,
      "outputs": [
        {
          "output_type": "display_data",
          "data": {
            "text/plain": [
              "<Figure size 1440x1440 with 1 Axes>"
            ],
            "image/png": "[encoded data removed]"
          },
          "metadata": {
            "needs_background": "light"
          }
        }
      ]
    },
    {
      "cell_type": "code",
      "source": [
        "plt.figure(figsize=(20,20))\n",
        "corr = numerados.select_dtypes(exclude='object').corr()\n",
        "heat_map = sns.heatmap(corr, linewidth = 1 , annot = True)\n",
        "plt.title( \"HeatMap using Seaborn Method\" )\n",
        "plt.show()"
      ],
      "metadata": {
        "colab": {
          "base_uri": "https://localhost:8080/",
          "height": 1000
        },
        "id": "7QPSMeCHelC_",
        "outputId": "b048c889-d8e5-49d1-97f4-db659542ed64"
      },
      "execution_count": 12,
      "outputs": [
        {
          "output_type": "display_data",
          "data": {
            "text/plain": [
              "<Figure size 1440x1440 with 2 Axes>"
            ],
            "image/png": "[encoded data removed]"
          },
          "metadata": {
            "needs_background": "light"
          }
        }
      ]
    },
    {
      "cell_type": "code",
      "source": [
        "# sns.pairplot(data = numerados, kind=\"kde\")"
      ],
      "metadata": {
        "id": "NJjaUFHVdcja"
      },
      "execution_count": 13,
      "outputs": []
    },
    {
      "cell_type": "markdown",
      "source": [
        "# Análise dos dados:\n",
        "\n",
        "Inspirado pelo Projeto: https://www.kaggle.com/code/elloaguedes/panorama-do-covid-19-no-brasil"
      ],
      "metadata": {
        "id": "YFiKODSQyTW-"
      }
    },
    {
      "cell_type": "markdown",
      "source": [
        "## Pergunta: A qual período de tempo os dados se referem?"
      ],
      "metadata": {
        "id": "a1wUjRnzyqLD"
      }
    },
    {
      "cell_type": "code",
      "source": [
        "print(min(dados['_created_at']))\n",
        "print(max(dados['_created_at']))"
      ],
      "metadata": {
        "colab": {
          "base_uri": "https://localhost:8080/"
        },
        "id": "72cHs-RSycBe",
        "outputId": "4ba2e3b3-276f-44ea-e8b1-d74eaa7055a1"
      },
      "execution_count": 14,
      "outputs": [
        {
          "output_type": "stream",
          "name": "stdout",
          "text": [
            "2021-02-15T11:08:07.797Z\n",
            "2022-08-23T21:47:39.399Z\n"
          ]
        }
      ]
    },
    {
      "cell_type": "markdown",
      "source": [
        "## Pergunta: Em qual periodo houve uma maior quantidade de mortos / altas?"
      ],
      "metadata": {
        "id": "SeniuFjGy1ZG"
      }
    },
    {
      "cell_type": "code",
      "source": [
        "associar = dados.groupby(['_created_at'])['saidaConfirmadaObitos','saidaConfirmadaAltas'].agg('sum')\n",
        "associar.head()"
      ],
      "metadata": {
        "colab": {
          "base_uri": "https://localhost:8080/",
          "height": 293
        },
        "id": "MckeC3XVzHs_",
        "outputId": "2fe48d85-98c6-4768-9b7a-931a3c10338c"
      },
      "execution_count": 15,
      "outputs": [
        {
          "output_type": "stream",
          "name": "stderr",
          "text": [
            "/usr/local/lib/python3.7/dist-packages/ipykernel_launcher.py:1: FutureWarning: Indexing with multiple keys (implicitly converted to a tuple of keys) will be deprecated, use a list instead.\n",
            "  \"\"\"Entry point for launching an IPython kernel.\n"
          ]
        },
        {
          "output_type": "execute_result",
          "data": {
            "text/plain": [
              "                          saidaConfirmadaObitos  saidaConfirmadaAltas\n",
              "_created_at                                                          \n",
              "2021-02-15T11:08:07.797Z                    0.0                   1.0\n",
              "2021-12-08T10:42:04.123Z                    0.0                   0.0\n",
              "2022-01-01T03:34:58.234Z                    0.0                   0.0\n",
              "2022-01-01T04:50:29.194Z                    0.0                   0.0\n",
              "2022-01-01T05:01:31.468Z                    0.0                   0.0"
            ],
            "text/html": [
              "\n",
              "  <div id=\"df-edcb4580-831b-4e4a-8999-04026352590c\">\n",
              "    <div class=\"colab-df-container\">\n",
              "      <div>\n",
              "<style scoped>\n",
              "    .dataframe tbody tr th:only-of-type {\n",
              "        vertical-align: middle;\n",
              "    }\n",
              "\n",
              "    .dataframe tbody tr th {\n",
              "        vertical-align: top;\n",
              "    }\n",
              "\n",
              "    .dataframe thead th {\n",
              "        text-align: right;\n",
              "    }\n",
              "</style>\n",
              "<table border=\"1\" class=\"dataframe\">\n",
              "  <thead>\n",
              "    <tr style=\"text-align: right;\">\n",
              "      <th></th>\n",
              "      <th>saidaConfirmadaObitos</th>\n",
              "      <th>saidaConfirmadaAltas</th>\n",
              "    </tr>\n",
              "    <tr>\n",
              "      <th>_created_at</th>\n",
              "      <th></th>\n",
              "      <th></th>\n",
              "    </tr>\n",
              "  </thead>\n",
              "  <tbody>\n",
              "    <tr>\n",
              "      <th>2021-02-15T11:08:07.797Z</th>\n",
              "      <td>0.0</td>\n",
              "      <td>1.0</td>\n",
              "    </tr>\n",
              "    <tr>\n",
              "      <th>2021-12-08T10:42:04.123Z</th>\n",
              "      <td>0.0</td>\n",
              "      <td>0.0</td>\n",
              "    </tr>\n",
              "    <tr>\n",
              "      <th>2022-01-01T03:34:58.234Z</th>\n",
              "      <td>0.0</td>\n",
              "      <td>0.0</td>\n",
              "    </tr>\n",
              "    <tr>\n",
              "      <th>2022-01-01T04:50:29.194Z</th>\n",
              "      <td>0.0</td>\n",
              "      <td>0.0</td>\n",
              "    </tr>\n",
              "    <tr>\n",
              "      <th>2022-01-01T05:01:31.468Z</th>\n",
              "      <td>0.0</td>\n",
              "      <td>0.0</td>\n",
              "    </tr>\n",
              "  </tbody>\n",
              "</table>\n",
              "</div>\n",
              "      <button class=\"colab-df-convert\" onclick=\"convertToInteractive('df-edcb4580-831b-4e4a-8999-04026352590c')\"\n",
              "              title=\"Convert this dataframe to an interactive table.\"\n",
              "              style=\"display:none;\">\n",
              "        \n",
              "  <svg xmlns=\"http://www.w3.org/2000/svg\" height=\"24px\"viewBox=\"0 0 24 24\"\n",
              "       width=\"24px\">\n",
              "    <path d=\"M0 0h24v24H0V0z\" fill=\"none\"/>\n",
              "    <path d=\"M18.56 5.44l.94 2.06.94-2.06 2.06-.94-2.06-.94-.94-2.06-.94 2.06-2.06.94zm-11 1L8.5 8.5l.94-2.06 2.06-.94-2.06-.94L8.5 2.5l-.94 2.06-2.06.94zm10 10l.94 2.06.94-2.06 2.06-.94-2.06-.94-.94-2.06-.94 2.06-2.06.94z\"/><path d=\"M17.41 7.96l-1.37-1.37c-.4-.4-.92-.59-1.43-.59-.52 0-1.04.2-1.43.59L10.3 9.45l-7.72 7.72c-.78.78-.78 2.05 0 2.83L4 21.41c.39.39.9.59 1.41.59.51 0 1.02-.2 1.41-.59l7.78-7.78 2.81-2.81c.8-.78.8-2.07 0-2.86zM5.41 20L4 18.59l7.72-7.72 1.47 1.35L5.41 20z\"/>\n",
              "  </svg>\n",
              "      </button>\n",
              "      \n",
              "  <style>\n",
              "    .colab-df-container {\n",
              "      display:flex;\n",
              "      flex-wrap:wrap;\n",
              "      gap: 12px;\n",
              "    }\n",
              "\n",
              "    .colab-df-convert {\n",
              "      background-color: #E8F0FE;\n",
              "      border: none;\n",
              "      border-radius: 50%;\n",
              "      cursor: pointer;\n",
              "      display: none;\n",
              "      fill: #1967D2;\n",
              "      height: 32px;\n",
              "      padding: 0 0 0 0;\n",
              "      width: 32px;\n",
              "    }\n",
              "\n",
              "    .colab-df-convert:hover {\n",
              "      background-color: #E2EBFA;\n",
              "      box-shadow: 0px 1px 2px rgba(60, 64, 67, 0.3), 0px 1px 3px 1px rgba(60, 64, 67, 0.15);\n",
              "      fill: #174EA6;\n",
              "    }\n",
              "\n",
              "    [theme=dark] .colab-df-convert {\n",
              "      background-color: #3B4455;\n",
              "      fill: #D2E3FC;\n",
              "    }\n",
              "\n",
              "    [theme=dark] .colab-df-convert:hover {\n",
              "      background-color: #434B5C;\n",
              "      box-shadow: 0px 1px 3px 1px rgba(0, 0, 0, 0.15);\n",
              "      filter: drop-shadow(0px 1px 2px rgba(0, 0, 0, 0.3));\n",
              "      fill: #FFFFFF;\n",
              "    }\n",
              "  </style>\n",
              "\n",
              "      <script>\n",
              "        const buttonEl =\n",
              "          document.querySelector('#df-edcb4580-831b-4e4a-8999-04026352590c button.colab-df-convert');\n",
              "        buttonEl.style.display =\n",
              "          google.colab.kernel.accessAllowed ? 'block' : 'none';\n",
              "\n",
              "        async function convertToInteractive(key) {\n",
              "          const element = document.querySelector('#df-edcb4580-831b-4e4a-8999-04026352590c');\n",
              "          const dataTable =\n",
              "            await google.colab.kernel.invokeFunction('convertToInteractive',\n",
              "                                                     [key], {});\n",
              "          if (!dataTable) return;\n",
              "\n",
              "          const docLinkHtml = 'Like what you see? Visit the ' +\n",
              "            '<a target=\"_blank\" href=https://colab.research.google.com/notebooks/data_table.ipynb>data table notebook</a>'\n",
              "            + ' to learn more about interactive tables.';\n",
              "          element.innerHTML = '';\n",
              "          dataTable['output_type'] = 'display_data';\n",
              "          await google.colab.output.renderOutput(dataTable, element);\n",
              "          const docLink = document.createElement('div');\n",
              "          docLink.innerHTML = docLinkHtml;\n",
              "          element.appendChild(docLink);\n",
              "        }\n",
              "      </script>\n",
              "    </div>\n",
              "  </div>\n",
              "  "
            ]
          },
          "metadata": {},
          "execution_count": 15
        }
      ]
    },
    {
      "cell_type": "code",
      "source": [
        "# plot the dataframe\n",
        "# dados.plot(x=\"_created_at\", y=\"saidaConfirmadaObitos\", kind=\"bar\", figsize=(9, 8))\n",
        "\n",
        "# print bar graph\n",
        "# plt.show()"
      ],
      "metadata": {
        "id": "vKJRWJqus1q5"
      },
      "execution_count": 16,
      "outputs": []
    },
    {
      "cell_type": "code",
      "source": [
        "# plot the dataframe\n",
        "# dados.plot(x=\"_created_at\", y=\"saidaConfirmadaAltas\", kind=\"bar\", figsize=(9, 8))\n",
        "\n",
        "# print bar graph\n",
        "# plt.show()"
      ],
      "metadata": {
        "id": "2ZvfxLYe0wzj"
      },
      "execution_count": 17,
      "outputs": []
    },
    {
      "cell_type": "markdown",
      "source": [
        "# Quantidade de amostras:"
      ],
      "metadata": {
        "id": "1zhljciTXBsA"
      }
    },
    {
      "cell_type": "markdown",
      "source": [
        "## Amostragem Aleatoria Simples:"
      ],
      "metadata": {
        "id": "TDSpUfxTU-VD"
      }
    },
    {
      "cell_type": "code",
      "source": [
        "dados_sample = dados.sample(n=384)\n",
        "dados_sample.info()"
      ],
      "metadata": {
        "colab": {
          "base_uri": "https://localhost:8080/"
        },
        "id": "M3UYeVl8VCCy",
        "outputId": "12ce9826-72ec-4d20-f61f-47f738388df7"
      },
      "execution_count": 18,
      "outputs": [
        {
          "output_type": "stream",
          "name": "stdout",
          "text": [
            "<class 'pandas.core.frame.DataFrame'>\n",
            "Int64Index: 384 entries, 41685 to 210451\n",
            "Data columns (total 26 columns):\n",
            " #   Column                 Non-Null Count  Dtype  \n",
            "---  ------                 --------------  -----  \n",
            " 0   Unnamed: 0             384 non-null    int64  \n",
            " 1   _id                    384 non-null    object \n",
            " 2   dataNotificacao        384 non-null    object \n",
            " 3   cnes                   384 non-null    object \n",
            " 4   ocupacaoSuspeitoCli    0 non-null      float64\n",
            " 5   ocupacaoSuspeitoUti    0 non-null      float64\n",
            " 6   ocupacaoConfirmadoCli  0 non-null      float64\n",
            " 7   ocupacaoConfirmadoUti  0 non-null      float64\n",
            " 8   ocupacaoCovidUti       384 non-null    float64\n",
            " 9   ocupacaoCovidCli       384 non-null    float64\n",
            " 10  ocupacaoHospitalarUti  384 non-null    float64\n",
            " 11  ocupacaoHospitalarCli  384 non-null    float64\n",
            " 12  saidaSuspeitaObitos    384 non-null    float64\n",
            " 13  saidaSuspeitaAltas     384 non-null    float64\n",
            " 14  saidaConfirmadaObitos  384 non-null    float64\n",
            " 15  saidaConfirmadaAltas   384 non-null    float64\n",
            " 16  origem                 384 non-null    object \n",
            " 17  _p_usuario             384 non-null    object \n",
            " 18  estadoNotificacao      384 non-null    object \n",
            " 19  municipioNotificacao   384 non-null    object \n",
            " 20  estado                 384 non-null    object \n",
            " 21  municipio              384 non-null    object \n",
            " 22  excluido               384 non-null    bool   \n",
            " 23  validado               384 non-null    bool   \n",
            " 24  _created_at            384 non-null    object \n",
            " 25  _updated_at            384 non-null    object \n",
            "dtypes: bool(2), float64(12), int64(1), object(11)\n",
            "memory usage: 75.8+ KB\n"
          ]
        }
      ]
    },
    {
      "cell_type": "code",
      "source": [
        "dados_sample.describe(include='object')"
      ],
      "metadata": {
        "colab": {
          "base_uri": "https://localhost:8080/",
          "height": 236
        },
        "id": "HCbTgKb2V_0K",
        "outputId": "4ad0cf50-8e2c-4e03-beb7-7df144084094"
      },
      "execution_count": 19,
      "outputs": [
        {
          "output_type": "execute_result",
          "data": {
            "text/plain": [
              "               _id           dataNotificacao     cnes       origem  \\\n",
              "count          384                       384      384          384   \n",
              "unique         384                       337      340            6   \n",
              "top     OpC2STDWAl  2022-04-21T03:00:00.000Z  4042085  parse-cloud   \n",
              "freq             1                         4        4          253   \n",
              "\n",
              "              _p_usuario estadoNotificacao municipioNotificacao     estado  \\\n",
              "count                384               384                  384        384   \n",
              "unique               214                24                  276         24   \n",
              "top     _User$HzwsO90KQW         São Paulo            São Paulo  São Paulo   \n",
              "freq                 132                92                   12         92   \n",
              "\n",
              "        municipio               _created_at               _updated_at  \n",
              "count         384                       384                       384  \n",
              "unique        276                       384                       384  \n",
              "top     São Paulo  2022-02-15T03:05:15.413Z  2022-02-15T03:05:15.413Z  \n",
              "freq           12                         1                         1  "
            ],
            "text/html": [
              "\n",
              "  <div id=\"df-364aa944-77ce-4805-9fe7-58b5d77f031c\">\n",
              "    <div class=\"colab-df-container\">\n",
              "      <div>\n",
              "<style scoped>\n",
              "    .dataframe tbody tr th:only-of-type {\n",
              "        vertical-align: middle;\n",
              "    }\n",
              "\n",
              "    .dataframe tbody tr th {\n",
              "        vertical-align: top;\n",
              "    }\n",
              "\n",
              "    .dataframe thead th {\n",
              "        text-align: right;\n",
              "    }\n",
              "</style>\n",
              "<table border=\"1\" class=\"dataframe\">\n",
              "  <thead>\n",
              "    <tr style=\"text-align: right;\">\n",
              "      <th></th>\n",
              "      <th>_id</th>\n",
              "      <th>dataNotificacao</th>\n",
              "      <th>cnes</th>\n",
              "      <th>origem</th>\n",
              "      <th>_p_usuario</th>\n",
              "      <th>estadoNotificacao</th>\n",
              "      <th>municipioNotificacao</th>\n",
              "      <th>estado</th>\n",
              "      <th>municipio</th>\n",
              "      <th>_created_at</th>\n",
              "      <th>_updated_at</th>\n",
              "    </tr>\n",
              "  </thead>\n",
              "  <tbody>\n",
              "    <tr>\n",
              "      <th>count</th>\n",
              "      <td>384</td>\n",
              "      <td>384</td>\n",
              "      <td>384</td>\n",
              "      <td>384</td>\n",
              "      <td>384</td>\n",
              "      <td>384</td>\n",
              "      <td>384</td>\n",
              "      <td>384</td>\n",
              "      <td>384</td>\n",
              "      <td>384</td>\n",
              "      <td>384</td>\n",
              "    </tr>\n",
              "    <tr>\n",
              "      <th>unique</th>\n",
              "      <td>384</td>\n",
              "      <td>337</td>\n",
              "      <td>340</td>\n",
              "      <td>6</td>\n",
              "      <td>214</td>\n",
              "      <td>24</td>\n",
              "      <td>276</td>\n",
              "      <td>24</td>\n",
              "      <td>276</td>\n",
              "      <td>384</td>\n",
              "      <td>384</td>\n",
              "    </tr>\n",
              "    <tr>\n",
              "      <th>top</th>\n",
              "      <td>OpC2STDWAl</td>\n",
              "      <td>2022-04-21T03:00:00.000Z</td>\n",
              "      <td>4042085</td>\n",
              "      <td>parse-cloud</td>\n",
              "      <td>_User$HzwsO90KQW</td>\n",
              "      <td>São Paulo</td>\n",
              "      <td>São Paulo</td>\n",
              "      <td>São Paulo</td>\n",
              "      <td>São Paulo</td>\n",
              "      <td>2022-02-15T03:05:15.413Z</td>\n",
              "      <td>2022-02-15T03:05:15.413Z</td>\n",
              "    </tr>\n",
              "    <tr>\n",
              "      <th>freq</th>\n",
              "      <td>1</td>\n",
              "      <td>4</td>\n",
              "      <td>4</td>\n",
              "      <td>253</td>\n",
              "      <td>132</td>\n",
              "      <td>92</td>\n",
              "      <td>12</td>\n",
              "      <td>92</td>\n",
              "      <td>12</td>\n",
              "      <td>1</td>\n",
              "      <td>1</td>\n",
              "    </tr>\n",
              "  </tbody>\n",
              "</table>\n",
              "</div>\n",
              "      <button class=\"colab-df-convert\" onclick=\"convertToInteractive('df-364aa944-77ce-4805-9fe7-58b5d77f031c')\"\n",
              "              title=\"Convert this dataframe to an interactive table.\"\n",
              "              style=\"display:none;\">\n",
              "        \n",
              "  <svg xmlns=\"http://www.w3.org/2000/svg\" height=\"24px\"viewBox=\"0 0 24 24\"\n",
              "       width=\"24px\">\n",
              "    <path d=\"M0 0h24v24H0V0z\" fill=\"none\"/>\n",
              "    <path d=\"M18.56 5.44l.94 2.06.94-2.06 2.06-.94-2.06-.94-.94-2.06-.94 2.06-2.06.94zm-11 1L8.5 8.5l.94-2.06 2.06-.94-2.06-.94L8.5 2.5l-.94 2.06-2.06.94zm10 10l.94 2.06.94-2.06 2.06-.94-2.06-.94-.94-2.06-.94 2.06-2.06.94z\"/><path d=\"M17.41 7.96l-1.37-1.37c-.4-.4-.92-.59-1.43-.59-.52 0-1.04.2-1.43.59L10.3 9.45l-7.72 7.72c-.78.78-.78 2.05 0 2.83L4 21.41c.39.39.9.59 1.41.59.51 0 1.02-.2 1.41-.59l7.78-7.78 2.81-2.81c.8-.78.8-2.07 0-2.86zM5.41 20L4 18.59l7.72-7.72 1.47 1.35L5.41 20z\"/>\n",
              "  </svg>\n",
              "      </button>\n",
              "      \n",
              "  <style>\n",
              "    .colab-df-container {\n",
              "      display:flex;\n",
              "      flex-wrap:wrap;\n",
              "      gap: 12px;\n",
              "    }\n",
              "\n",
              "    .colab-df-convert {\n",
              "      background-color: #E8F0FE;\n",
              "      border: none;\n",
              "      border-radius: 50%;\n",
              "      cursor: pointer;\n",
              "      display: none;\n",
              "      fill: #1967D2;\n",
              "      height: 32px;\n",
              "      padding: 0 0 0 0;\n",
              "      width: 32px;\n",
              "    }\n",
              "\n",
              "    .colab-df-convert:hover {\n",
              "      background-color: #E2EBFA;\n",
              "      box-shadow: 0px 1px 2px rgba(60, 64, 67, 0.3), 0px 1px 3px 1px rgba(60, 64, 67, 0.15);\n",
              "      fill: #174EA6;\n",
              "    }\n",
              "\n",
              "    [theme=dark] .colab-df-convert {\n",
              "      background-color: #3B4455;\n",
              "      fill: #D2E3FC;\n",
              "    }\n",
              "\n",
              "    [theme=dark] .colab-df-convert:hover {\n",
              "      background-color: #434B5C;\n",
              "      box-shadow: 0px 1px 3px 1px rgba(0, 0, 0, 0.15);\n",
              "      filter: drop-shadow(0px 1px 2px rgba(0, 0, 0, 0.3));\n",
              "      fill: #FFFFFF;\n",
              "    }\n",
              "  </style>\n",
              "\n",
              "      <script>\n",
              "        const buttonEl =\n",
              "          document.querySelector('#df-364aa944-77ce-4805-9fe7-58b5d77f031c button.colab-df-convert');\n",
              "        buttonEl.style.display =\n",
              "          google.colab.kernel.accessAllowed ? 'block' : 'none';\n",
              "\n",
              "        async function convertToInteractive(key) {\n",
              "          const element = document.querySelector('#df-364aa944-77ce-4805-9fe7-58b5d77f031c');\n",
              "          const dataTable =\n",
              "            await google.colab.kernel.invokeFunction('convertToInteractive',\n",
              "                                                     [key], {});\n",
              "          if (!dataTable) return;\n",
              "\n",
              "          const docLinkHtml = 'Like what you see? Visit the ' +\n",
              "            '<a target=\"_blank\" href=https://colab.research.google.com/notebooks/data_table.ipynb>data table notebook</a>'\n",
              "            + ' to learn more about interactive tables.';\n",
              "          element.innerHTML = '';\n",
              "          dataTable['output_type'] = 'display_data';\n",
              "          await google.colab.output.renderOutput(dataTable, element);\n",
              "          const docLink = document.createElement('div');\n",
              "          docLink.innerHTML = docLinkHtml;\n",
              "          element.appendChild(docLink);\n",
              "        }\n",
              "      </script>\n",
              "    </div>\n",
              "  </div>\n",
              "  "
            ]
          },
          "metadata": {},
          "execution_count": 19
        }
      ]
    },
    {
      "cell_type": "markdown",
      "source": [
        "## Amostragem Aleatoria Estratificada:"
      ],
      "metadata": {
        "id": "FJV8uLj4YyVk"
      }
    },
    {
      "cell_type": "code",
      "source": [
        "from sklearn.model_selection import train_test_split"
      ],
      "metadata": {
        "id": "gNdUa9tCWYf1"
      },
      "execution_count": 20,
      "outputs": []
    },
    {
      "cell_type": "code",
      "source": [
        "dados['origem'].value_counts()"
      ],
      "metadata": {
        "colab": {
          "base_uri": "https://localhost:8080/"
        },
        "id": "ZyMoDjxMZag4",
        "outputId": "78851c2d-25ac-4871-bb5e-a3bf3b6af8e1"
      },
      "execution_count": 21,
      "outputs": [
        {
          "output_type": "execute_result",
          "data": {
            "text/plain": [
              "parse-cloud              150636\n",
              "RPA-SP                    45953\n",
              "RPA-GO                    30834\n",
              "RPA-MS                    10580\n",
              "RPA-PR-CURITIBA            2605\n",
              "RPA-RN                     2287\n",
              "RPA-MG-BELO-HORIZONTE       550\n",
              "Name: origem, dtype: int64"
            ]
          },
          "metadata": {},
          "execution_count": 21
        }
      ]
    },
    {
      "cell_type": "markdown",
      "source": [
        "## Amostragem Aleatoria por Conglomerados:"
      ],
      "metadata": {
        "id": "vv5BwXdtccc7"
      }
    },
    {
      "cell_type": "markdown",
      "source": [
        "## Amostragem Aleatoria por Sistemática:"
      ],
      "metadata": {
        "id": "5HsehfN9ccx1"
      }
    },
    {
      "cell_type": "markdown",
      "source": [
        "# Analise de Componentes Principais (PCA)"
      ],
      "metadata": {
        "id": "XuD69NocnrZW"
      }
    },
    {
      "cell_type": "markdown",
      "source": [
        "# Analise Fatorial (FA)"
      ],
      "metadata": {
        "id": "CkoTVwX6nzjM"
      }
    }
  ]
}